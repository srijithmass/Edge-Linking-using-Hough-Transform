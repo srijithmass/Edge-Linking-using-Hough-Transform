{
 "cells": [
  {
   "cell_type": "code",
   "execution_count": 2,
   "id": "83f944c1",
   "metadata": {},
   "outputs": [],
   "source": [
    "import cv2\n",
    "import matplotlib.pyplot as plt\n",
    "\n",
    "image=cv2.imread('image.jpg',1)\n",
    "#image=cv2.resize(image,(1200,800))\n",
    "\n",
    "cv2.imshow(' ',image)\n",
    "import numpy as np\n",
    "edges1 = cv2.Canny(image,100,150)\n",
    "\n",
    "lines=cv2.HoughLinesP(edges1,1,np.pi/180, threshold=100, minLineLength=20,maxLineGap=50)\n",
    "\n",
    "\n",
    "for line in lines:\n",
    "    x1, y1, x2, y2 = line [0]\n",
    "    cv2.line(image,(x1, y1),(x2, y2),(203, 48, 255),1)\n",
    "\n",
    "\n",
    "cv2.imshow('gray',image)\n",
    "cv2.waitKey(0)\n",
    "cv2.destroyAllWindows()"
   ]
  },
  {
   "cell_type": "code",
   "execution_count": null,
   "id": "9428d036",
   "metadata": {},
   "outputs": [],
   "source": []
  }
 ],
 "metadata": {
  "kernelspec": {
   "display_name": "Python 3 (ipykernel)",
   "language": "python",
   "name": "python3"
  },
  "language_info": {
   "codemirror_mode": {
    "name": "ipython",
    "version": 3
   },
   "file_extension": ".py",
   "mimetype": "text/x-python",
   "name": "python",
   "nbconvert_exporter": "python",
   "pygments_lexer": "ipython3",
   "version": "3.10.10"
  }
 },
 "nbformat": 4,
 "nbformat_minor": 5
}
